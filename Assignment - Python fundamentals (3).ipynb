{
 "cells": [
  {
   "cell_type": "markdown",
   "metadata": {},
   "source": [
    "## <span style = 'color:green'>Assignment on python fundamentals</span>\n"
   ]
  },
  {
   "cell_type": "markdown",
   "metadata": {},
   "source": [
    "1. **By using 'print' function print the provided string in specified format**\n",
    "**your executiion should be this**: \n",
    "\n",
    "Hello World           \n",
    "  Welcome to 'Python' Programming"
   ]
  },
  {
   "cell_type": "code",
   "execution_count": null,
   "metadata": {},
   "outputs": [],
   "source": [
    "a = \"Hello World\"\n",
    "b = \"Welcome to 'Python' Programming\"\n",
    "print(a)\n",
    "print(b)"
   ]
  },
  {
   "cell_type": "markdown",
   "metadata": {},
   "source": [
    "2. **Check the python version which you are using**"
   ]
  },
  {
   "cell_type": "code",
   "execution_count": null,
   "metadata": {},
   "outputs": [],
   "source": [
    "import sys\n",
    "sys.version"
   ]
  },
  {
   "cell_type": "markdown",
   "metadata": {},
   "source": [
    "3. **Design a Python program which can calculate the area by taking readius as input by user input method**\n",
    "<table>\n",
    "  <tr>\n",
    "  <td><td>\n",
    "   <br> instead of giving direct values try using \"float(input())\" </td>\n",
    "  </tr>\n",
    "</table>"
   ]
  },
  {
   "cell_type": "code",
   "execution_count": null,
   "metadata": {},
   "outputs": [],
   "source": [
    "from math import pi\n",
    "radius = float(input (\"Input the radius of the circle : \"))\n",
    "print (\"The area of the circle with radius \" + str(radius) + \" is: \" + str(pi * radius**2))"
   ]
  },
  {
   "cell_type": "markdown",
   "metadata": {},
   "source": [
    "4. **Write a python program which can take your first and last name seperately and execute as** \n",
    "<table>\n",
    "  <tr>\n",
    "  <td><td>\n",
    "   <br>**Sample execution** : Hello 'first name' 'last name', hope you are doing good</td>\n",
    "  </tr>\n",
    "</table>\n"
   ]
  },
  {
   "cell_type": "code",
   "execution_count": null,
   "metadata": {},
   "outputs": [],
   "source": [
    "first_name = input(\"Input your First Name : \")\n",
    "last_name = input(\"Input your Last Name : \")\n",
    "print (\"Hello  \" + first_name + \" \" + last_name + \",hope you are doing good\")"
   ]
  },
  {
   "cell_type": "markdown",
   "metadata": {},
   "source": [
    "5. **Write a python program which can convert kilograms to grams**\n"
   ]
  },
  {
   "cell_type": "code",
   "execution_count": null,
   "metadata": {},
   "outputs": [],
   "source": [
    "kilograms = float(input(\"Please enter kilograms:\"))\n",
    "grams = kilograms * 1000\n",
    "print(grams, \"grams\")"
   ]
  },
  {
   "cell_type": "markdown",
   "metadata": {},
   "source": [
    "6. **Create a list and store the given elements in the list**\n",
    "  <table>\n",
    "  <tr>\n",
    "  <td><td>\n",
    "   <br>Elements : 'Bengaluru','New York', 1971, '1682', (1,2,3,4,5,'Is this tuple?'),\"'Hello,welcome to Python Programming'\"</td>\n",
    "  </tr>\n",
    "</table>\n",
    "- Try to extract entire tuple by using positive indexing\n",
    "- Can we add elements into tuple after creating it?\n",
    "- Remove '1682' and 'New York' from the list\n",
    "- Discuss one practical application of tuple and lists\n",
    "- Access 'Bengaluru' by Negitive indexing\n",
    "- add 'Mumbai' into the list\n",
    "- Try to perform one operation on each removal operation on lists \n",
    "1. del\n",
    "2. remove\n",
    "3. pop\n",
    "- Try to perform one operation on each operational\n",
    "1. append\n",
    "2. entend\n",
    "3. insert"
   ]
  },
  {
   "cell_type": "code",
   "execution_count": null,
   "metadata": {},
   "outputs": [],
   "source": [
    "#Try to extract entire tuple by using positive indexing\n",
    "Elements = ((1, 'Bengaluru'), (2, 'New York'), (3, 1971),(4, 1682), (5, (1,2,3,4,5,'Is this tuple?')), (6,'Hello,welcome to Python Programming'))\n",
    "Elements"
   ]
  },
  {
   "cell_type": "code",
   "execution_count": null,
   "metadata": {},
   "outputs": [],
   "source": [
    "#Can we add elements into tuple after creating it?\n",
    "#no, we cant add elements into tuple"
   ]
  },
  {
   "cell_type": "code",
   "execution_count": null,
   "metadata": {},
   "outputs": [],
   "source": [
    "#Remove '1682' and 'New York' from the list\n",
    "#METHOD 1\n",
    "Elements = ['Bengaluru','New York', 1971,1682,(1,2,3,4,5,'Is this tuple?'),'Hello,welcome to Python Programming']\n",
    "Elements.pop(1)\n",
    "Elements.pop(2)\n",
    "Elements"
   ]
  },
  {
   "cell_type": "code",
   "execution_count": null,
   "metadata": {},
   "outputs": [],
   "source": [
    "#Remove '1682' and 'New York' from the list\n",
    "#METHOD 2\n",
    "Elements = ['Bengaluru','New York', 1971,1682,(1,2,3,4,5,'Is this tuple?'),'Hello,welcome to Python Programming']\n",
    "Elements.remove('New York')\n",
    "Elements.remove(1682)\n",
    "Elements"
   ]
  },
  {
   "cell_type": "code",
   "execution_count": null,
   "metadata": {},
   "outputs": [],
   "source": [
    "#Discuss one practical application of tuple and lists ?\n",
    "# ANSWER:\n",
    "# lists - mutable\n",
    "# we can add, remove, replace data.\n",
    "# tuple - immutable\n",
    "# we can't add, remove, replace data once data was created "
   ]
  },
  {
   "cell_type": "code",
   "execution_count": null,
   "metadata": {},
   "outputs": [],
   "source": [
    "#Access 'Bengaluru' by Negitive indexing\n",
    "Elements = ['Bengaluru','New York', 1971,1682,(1,2,3,4,5,'Is this tuple?'),'Hello,welcome to Python Programming']\n",
    "Elements[-6]"
   ]
  },
  {
   "cell_type": "code",
   "execution_count": null,
   "metadata": {
    "scrolled": true
   },
   "outputs": [],
   "source": [
    "# add 'Mumbai' into the list\n",
    "Elements = ['Bengaluru','New York', 1971,1682,(1,2,3,4,5,'Is this tuple?'),'Hello,welcome to Python Programming']\n",
    "Elements.insert(6,'Mumbai')\n",
    "Elements"
   ]
  },
  {
   "cell_type": "code",
   "execution_count": null,
   "metadata": {},
   "outputs": [],
   "source": [
    "#Try to perform one operation on each removal operation on lists\n",
    "Elements = ['Bengaluru','New York', 1971,1682,(1,2,3,4,5,'Is this tuple?'),'Hello,welcome to Python Programming']\n",
    "Elements.pop(1)\n",
    "Elements.remove(1971)\n",
    "del Elements[3]\n",
    "Elements"
   ]
  },
  {
   "cell_type": "code",
   "execution_count": null,
   "metadata": {},
   "outputs": [],
   "source": [
    "# Try to perform one operation on each operational\n",
    "Elements = ['Bengaluru','New York', 1971,1682,(1,2,3,4,5,'Is this tuple?'),'Hello,welcome to Python Programming']\n",
    "Elements.append('Mumbai')\n",
    "Elements.extend([2002])\n",
    "Elements.insert(3,2001)\n",
    "Elements"
   ]
  },
  {
   "cell_type": "markdown",
   "metadata": {},
   "source": [
    "7. **Write a python program which can calculate the electricity bill by considering the no of units consumed and other parameters are mentioned below**\n",
    "- If units consumed is less than 50 then bill amount should be 100INR\n",
    "- If units consumed between 50 - 300 then each unit will be charged at 4.5 INR\n",
    "-  If units consumed more than 300 then that billed individual have to pay base pay as 1000INR and 300 units will be reduced from his total consumed units and for remaining units 7 INR will be charged for each unit.\n",
    "- Execution should be "
   ]
  },
  {
   "cell_type": "code",
   "execution_count": null,
   "metadata": {},
   "outputs": [],
   "source": [
    "price = float(input(\"units consumed: \"))\n",
    "if (units < 50):\n",
    "    print (100)\n",
    "elif (units >50 and units< 300):\n",
    "    print (units*4.5)\n",
    "elif (units >300):\n",
    "    print ((1000) + (units - 300)*7)"
   ]
  },
  {
   "cell_type": "markdown",
   "metadata": {},
   "source": [
    "8. **Write a program to calculate the tax of the vehicle based on the price**\n",
    "- below are the parameters to consider\n",
    "\n",
    "\n",
    "    Cost price (in Rs)                                            Tax\n",
    "        > 150000                                                  15 %\n",
    "        > 50000 and <= 100000                                     10%"
   ]
  },
  {
   "cell_type": "code",
   "execution_count": null,
   "metadata": {},
   "outputs": [],
   "source": [
    "price = float(input(\"Enter the cost price(in Rs): \"))\n",
    "if (price > 50000 and price <=100000):\n",
    "              print(\"tax of the velice is 10%:\",\" \",0.15*price)\n",
    "elif(price > 150000):\n",
    "    print(\"tax of the velice is 15%:\",\" \",0.10*price)\n",
    "elif(price < 50000):\n",
    "    print(\"no need to pay tax\")"
   ]
  },
  {
   "cell_type": "markdown",
   "metadata": {},
   "source": [
    "9. **Write a program to check if the input is positive or negitive**\n"
   ]
  },
  {
   "cell_type": "code",
   "execution_count": null,
   "metadata": {},
   "outputs": [],
   "source": [
    "num = float(input(\"Enter a number: \"))\n",
    "if num > 0:\n",
    "   print(\"Positive number\")\n",
    "elif num == 0:\n",
    "   print(\"Zero\")\n",
    "else:\n",
    "   print(\"Negative number\")"
   ]
  },
  {
   "cell_type": "markdown",
   "metadata": {},
   "source": [
    "10. **Define a function which can multiply the string with n number of times**\n",
    "- string = \"python programming\""
   ]
  },
  {
   "cell_type": "code",
   "execution_count": null,
   "metadata": {},
   "outputs": [],
   "source": [
    "string = \" python programming\"\n",
    "float(input(\"enter n value: \"))\n",
    "print( string*n)"
   ]
  },
  {
   "cell_type": "markdown",
   "metadata": {},
   "source": [
    "11. **Define a function whicg can sum up two numbers** \n"
   ]
  },
  {
   "cell_type": "code",
   "execution_count": null,
   "metadata": {},
   "outputs": [],
   "source": [
    "sum_up = lambda x,y : x+y\n",
    "sum_up(2,4)"
   ]
  },
  {
   "cell_type": "markdown",
   "metadata": {},
   "source": [
    "12. **Define a function which can identify if a user has entered specifit string or not**\n",
    "- specified string = \"India\""
   ]
  },
  {
   "cell_type": "code",
   "execution_count": null,
   "metadata": {},
   "outputs": [],
   "source": [
    "def lexicon(word):\n",
    "    while True:\n",
    "        try:\n",
    "            a=str(input(word))\n",
    "            print(\"Input is a string. string = \", a)\n",
    "        except ValueError:\n",
    "            print(\"Oops..Input is not supposed to be a number. Try again!\")\n",
    "    return a\n",
    "b=lexicon(\"Enter the word you'd like: \""
   ]
  },
  {
   "cell_type": "markdown",
   "metadata": {},
   "source": [
    "13. **define a function which will greet by taking user name as input**\n",
    "- input = name\n",
    "- hello 'name', hope you are doing good"
   ]
  },
  {
   "cell_type": "code",
   "execution_count": null,
   "metadata": {},
   "outputs": [],
   "source": [
    "name = input(\"Input your Name : \")\n",
    "print (\"Hello  \" + name + \" ,hope you are doing good\")"
   ]
  },
  {
   "cell_type": "markdown",
   "metadata": {},
   "source": [
    "14. **Define a function which can give us the entire prime numbers till the input**\n"
   ]
  },
  {
   "cell_type": "code",
   "execution_count": null,
   "metadata": {},
   "outputs": [],
   "source": [
    "start_val = 1\n",
    "n = int(input(\"Enter the n number:\"))\n",
    "for num in range(start_val, n+1):\n",
    "    if(num>1):\n",
    "        for i in range(2,num):\n",
    "            if(num%i)==0:\n",
    "                break\n",
    "        else:\n",
    "            print(num)"
   ]
  },
  {
   "cell_type": "markdown",
   "metadata": {},
   "source": [
    "15. **Q.1 Check if a given string is palindrome.**\n",
    "    <br> A string is palindrome if the reverse of the string is same as itself.\n",
    "    <br> For eg. madam\n",
    "    <br> Print \"`<string>` is palindrome\" if it is palindrome \n",
    "    <br> else \"`<string>` is not a palindrome\" if it is not a palindrome.\n",
    "    <br> Hint : Use slicing to get reverse of the string."
   ]
  },
  {
   "cell_type": "code",
   "execution_count": null,
   "metadata": {},
   "outputs": [],
   "source": [
    "a_string = 'Was it a car or a cat I saw'\n",
    "def palindrome(string):\n",
    "    string = string.lower().replace(' ', '')\n",
    "    return string == string[::-1]\n",
    "print(palindrome(a_string))"
   ]
  },
  {
   "cell_type": "markdown",
   "metadata": {},
   "source": [
    "16. **Write a python program to find n is a leap year** \n",
    "<br> Print \"n is a leap year\" if the given year is leap year.\n",
    "<br> Print \"n is not a leap year\" if the given year is not leap year.\n",
    "<br> Replace n with given year.\n",
    "<br> Hint : Use nested if-else "
   ]
  },
  {
   "cell_type": "code",
   "execution_count": null,
   "metadata": {},
   "outputs": [],
   "source": [
    "print(\"Enter the Year: \", end=\"\")\n",
    "y = int(input())\n",
    "\n",
    "if y%4==0 and y%100!=0:\n",
    "    print(\"\\n\" +str(y)+ \" is a Leap Year\")\n",
    "elif y%400==0:\n",
    "    print(\"\\n\" +str(y)+ \" is a Leap Year\")\n",
    "else:\n",
    "    print(\"\\n\" +str(y)+ \" is not a Leap Year\")"
   ]
  },
  {
   "cell_type": "markdown",
   "metadata": {},
   "source": [
    "17. **Write a python program to check if n is leap year**"
   ]
  },
  {
   "cell_type": "code",
   "execution_count": null,
   "metadata": {},
   "outputs": [],
   "source": [
    "year = int(input(\"Enter the year: \"))\n",
    "if (year % 4) == 0:\n",
    "  if (year % 100) == 0:\n",
    "    if (year % 400) == 0:\n",
    "      print(year,\"is a leap year\")\n",
    "    else:\n",
    "      print(year,\"is not a leap year\")\n",
    "  else:\n",
    "    print(year,\"is a leap year\")\n",
    "else:\n",
    "  print(year,\"is not a leap year\")"
   ]
  },
  {
   "cell_type": "markdown",
   "metadata": {},
   "source": [
    "18.  **Find the largest among three numbers**\n",
    "\n",
    "eg. Consider a,b,c as the three numbers, find which is the  largest number among them"
   ]
  },
  {
   "cell_type": "code",
   "execution_count": null,
   "metadata": {},
   "outputs": [],
   "source": [
    "number1 = 3\n",
    "number2 = 5\n",
    "number3 = 7\n",
    "# using max function to find largest numbers\n",
    "maxnum = max(number1, number2, number3)\n",
    "print(\"The largest number among the three numbers =\",\n",
    "      maxnum)"
   ]
  },
  {
   "cell_type": "markdown",
   "metadata": {},
   "source": [
    "19. **write a python program to print even numbers from 1 to 15 by using range function**\n"
   ]
  },
  {
   "cell_type": "code",
   "execution_count": null,
   "metadata": {},
   "outputs": [],
   "source": [
    "for num in range(1,16):\n",
    "  #here inside range function first no dentoes starting, second denotes end and third denotes the interval\n",
    "    print(num)"
   ]
  },
  {
   "cell_type": "markdown",
   "metadata": {},
   "source": [
    "20. **Write a program to guess the integer which is selected by computerby using  randint**\n",
    "- use random and radint \n",
    "- range should be 1 to 10\n",
    "- if user's number is greater than 10 then program should say your guess is too high\n",
    "- if user input is matches with the computer choice then your program should say \"yey! correct guess\"\n",
    "- otherwise your program should say too low"
   ]
  },
  {
   "cell_type": "code",
   "execution_count": null,
   "metadata": {},
   "outputs": [],
   "source": [
    "import random\n",
    "random_number = random.randint(1,10)\n",
    "win = False\n",
    "Turns =0\n",
    "while win==False:\n",
    "    Your_guess = input(\"Enter a number between 1 and 10\")\n",
    "    Turns +=1\n",
    "    if random_number==int(Your_guess):\n",
    "        print(\"You won!\")\n",
    "        print(\"Number of turns you have used: \",Turns)\n",
    "        win == True\n",
    "        break\n",
    "    else:\n",
    "     if random_number>int(Your_guess):\n",
    "        print(\"Your Guess was low, Please enter a higher number\")\n",
    "     else:\n",
    "        print(\"your guess was high, please enter a lower number\")"
   ]
  }
 ],
 "metadata": {
  "kernelspec": {
   "display_name": "Python 3 (ipykernel)",
   "language": "python",
   "name": "python3"
  },
  "language_info": {
   "codemirror_mode": {
    "name": "ipython",
    "version": 3
   },
   "file_extension": ".py",
   "mimetype": "text/x-python",
   "name": "python",
   "nbconvert_exporter": "python",
   "pygments_lexer": "ipython3",
   "version": "3.9.13"
  }
 },
 "nbformat": 4,
 "nbformat_minor": 4
}
